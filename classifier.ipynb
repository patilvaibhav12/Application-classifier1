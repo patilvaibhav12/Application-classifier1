{
 "cells": [
  {
   "cell_type": "markdown",
   "metadata": {},
   "source": [
    "### Import necessary modules"
   ]
  },
  {
   "cell_type": "code",
   "execution_count": 1,
   "metadata": {},
   "outputs": [],
   "source": [
    "import numpy as np \n",
    "import pandas as pd \n",
    "import math"
   ]
  },
  {
   "cell_type": "markdown",
   "metadata": {},
   "source": [
    "### Reading data"
   ]
  },
  {
   "cell_type": "code",
   "execution_count": 2,
   "metadata": {},
   "outputs": [
    {
     "data": {
      "text/html": [
       "<div>\n",
       "<style scoped>\n",
       "    .dataframe tbody tr th:only-of-type {\n",
       "        vertical-align: middle;\n",
       "    }\n",
       "\n",
       "    .dataframe tbody tr th {\n",
       "        vertical-align: top;\n",
       "    }\n",
       "\n",
       "    .dataframe thead th {\n",
       "        text-align: right;\n",
       "    }\n",
       "</style>\n",
       "<table border=\"1\" class=\"dataframe\">\n",
       "  <thead>\n",
       "    <tr style=\"text-align: right;\">\n",
       "      <th></th>\n",
       "      <th>First Name</th>\n",
       "      <th>Last Name</th>\n",
       "      <th>City</th>\n",
       "      <th>State</th>\n",
       "      <th>Zip Code</th>\n",
       "      <th>DOB [DD/MM/YYYY]</th>\n",
       "      <th>Age</th>\n",
       "      <th>Gender</th>\n",
       "      <th>Email Address</th>\n",
       "      <th>Contact Number</th>\n",
       "      <th>...</th>\n",
       "      <th>Programming Language Known other than Java (one major)</th>\n",
       "      <th>Have you worked on MySQL or Oracle database</th>\n",
       "      <th>Have you studied OOP Concepts</th>\n",
       "      <th>Certifications/Achievement/ Research papers</th>\n",
       "      <th>Rate your written communication skills [1-10]</th>\n",
       "      <th>Rate your verbal communication skills [1-10]</th>\n",
       "      <th>Link to updated Resume (Google/ One Drive link preferred)</th>\n",
       "      <th>link to Linkedin profile</th>\n",
       "      <th>How Did You Hear About This Internship?</th>\n",
       "      <th>Label</th>\n",
       "    </tr>\n",
       "  </thead>\n",
       "  <tbody>\n",
       "    <tr>\n",
       "      <th>0</th>\n",
       "      <td>Barron</td>\n",
       "      <td>Harnes</td>\n",
       "      <td>Kolhapur</td>\n",
       "      <td>Maharashtra</td>\n",
       "      <td>416004</td>\n",
       "      <td>24/09/2000</td>\n",
       "      <td>19</td>\n",
       "      <td>Male</td>\n",
       "      <td>bharnes0@harvard.edu</td>\n",
       "      <td>6345186600</td>\n",
       "      <td>...</td>\n",
       "      <td>HTML/CSS</td>\n",
       "      <td>Yes</td>\n",
       "      <td>No</td>\n",
       "      <td>NaN</td>\n",
       "      <td>6</td>\n",
       "      <td>10</td>\n",
       "      <td>NaN</td>\n",
       "      <td>NaN</td>\n",
       "      <td>Twitter</td>\n",
       "      <td>ineligible</td>\n",
       "    </tr>\n",
       "    <tr>\n",
       "      <th>1</th>\n",
       "      <td>Velma</td>\n",
       "      <td>Allone</td>\n",
       "      <td>Pune</td>\n",
       "      <td>Maharashtra</td>\n",
       "      <td>411011</td>\n",
       "      <td>23/10/1997</td>\n",
       "      <td>22</td>\n",
       "      <td>Female</td>\n",
       "      <td>vallone1@i2i.jp</td>\n",
       "      <td>2808753102</td>\n",
       "      <td>...</td>\n",
       "      <td>PHP</td>\n",
       "      <td>No</td>\n",
       "      <td>Yes</td>\n",
       "      <td>NaN</td>\n",
       "      <td>10</td>\n",
       "      <td>7</td>\n",
       "      <td>NaN</td>\n",
       "      <td>NaN</td>\n",
       "      <td>Ex/Current Employee</td>\n",
       "      <td>eligible</td>\n",
       "    </tr>\n",
       "    <tr>\n",
       "      <th>2</th>\n",
       "      <td>Thibaut</td>\n",
       "      <td>Scotland</td>\n",
       "      <td>Mumbai</td>\n",
       "      <td>Maharashtra</td>\n",
       "      <td>400059</td>\n",
       "      <td>6/2/1996</td>\n",
       "      <td>24</td>\n",
       "      <td>Male</td>\n",
       "      <td>tscotland2@opensource.org</td>\n",
       "      <td>2945231918</td>\n",
       "      <td>...</td>\n",
       "      <td>C</td>\n",
       "      <td>No</td>\n",
       "      <td>No</td>\n",
       "      <td>NaN</td>\n",
       "      <td>8</td>\n",
       "      <td>6</td>\n",
       "      <td>NaN</td>\n",
       "      <td>NaN</td>\n",
       "      <td>Twitter</td>\n",
       "      <td>ineligible</td>\n",
       "    </tr>\n",
       "    <tr>\n",
       "      <th>3</th>\n",
       "      <td>Retha</td>\n",
       "      <td>Proud</td>\n",
       "      <td>Solapur</td>\n",
       "      <td>Maharashtra</td>\n",
       "      <td>413224</td>\n",
       "      <td>26/12/1999</td>\n",
       "      <td>20</td>\n",
       "      <td>Female</td>\n",
       "      <td>rproud3@flavors.me</td>\n",
       "      <td>7507196200</td>\n",
       "      <td>...</td>\n",
       "      <td>PHP</td>\n",
       "      <td>No</td>\n",
       "      <td>Yes</td>\n",
       "      <td>NaN</td>\n",
       "      <td>9</td>\n",
       "      <td>6</td>\n",
       "      <td>NaN</td>\n",
       "      <td>NaN</td>\n",
       "      <td>Twitter</td>\n",
       "      <td>ineligible</td>\n",
       "    </tr>\n",
       "    <tr>\n",
       "      <th>4</th>\n",
       "      <td>Del</td>\n",
       "      <td>Pearse</td>\n",
       "      <td>Sangli</td>\n",
       "      <td>Maharashtra</td>\n",
       "      <td>416436</td>\n",
       "      <td>21/09/1996</td>\n",
       "      <td>23</td>\n",
       "      <td>Female</td>\n",
       "      <td>dpearse4@sakura.ne.jp</td>\n",
       "      <td>6643884281</td>\n",
       "      <td>...</td>\n",
       "      <td>Python</td>\n",
       "      <td>No</td>\n",
       "      <td>Yes</td>\n",
       "      <td>NaN</td>\n",
       "      <td>8</td>\n",
       "      <td>6</td>\n",
       "      <td>NaN</td>\n",
       "      <td>NaN</td>\n",
       "      <td>Facebook</td>\n",
       "      <td>ineligible</td>\n",
       "    </tr>\n",
       "  </tbody>\n",
       "</table>\n",
       "<p>5 rows × 32 columns</p>\n",
       "</div>"
      ],
      "text/plain": [
       "  First Name Last Name      City        State  Zip Code DOB [DD/MM/YYYY]  Age  \\\n",
       "0     Barron    Harnes  Kolhapur  Maharashtra    416004       24/09/2000   19   \n",
       "1      Velma    Allone      Pune  Maharashtra    411011       23/10/1997   22   \n",
       "2    Thibaut  Scotland    Mumbai  Maharashtra    400059         6/2/1996   24   \n",
       "3      Retha     Proud   Solapur  Maharashtra    413224       26/12/1999   20   \n",
       "4        Del    Pearse    Sangli  Maharashtra    416436       21/09/1996   23   \n",
       "\n",
       "   Gender              Email Address  Contact Number  ...  \\\n",
       "0    Male       bharnes0@harvard.edu      6345186600  ...   \n",
       "1  Female            vallone1@i2i.jp      2808753102  ...   \n",
       "2    Male  tscotland2@opensource.org      2945231918  ...   \n",
       "3  Female         rproud3@flavors.me      7507196200  ...   \n",
       "4  Female      dpearse4@sakura.ne.jp      6643884281  ...   \n",
       "\n",
       "   Programming Language Known other than Java (one major)  \\\n",
       "0                                           HTML/CSS        \n",
       "1                                                PHP        \n",
       "2                                                  C        \n",
       "3                                                PHP        \n",
       "4                                             Python        \n",
       "\n",
       "  Have you worked on MySQL or Oracle database Have you studied OOP Concepts  \\\n",
       "0                                         Yes                            No   \n",
       "1                                          No                           Yes   \n",
       "2                                          No                            No   \n",
       "3                                          No                           Yes   \n",
       "4                                          No                           Yes   \n",
       "\n",
       "  Certifications/Achievement/ Research papers  \\\n",
       "0                                         NaN   \n",
       "1                                         NaN   \n",
       "2                                         NaN   \n",
       "3                                         NaN   \n",
       "4                                         NaN   \n",
       "\n",
       "  Rate your written communication skills [1-10]  \\\n",
       "0                                             6   \n",
       "1                                            10   \n",
       "2                                             8   \n",
       "3                                             9   \n",
       "4                                             8   \n",
       "\n",
       "  Rate your verbal communication skills [1-10]  \\\n",
       "0                                           10   \n",
       "1                                            7   \n",
       "2                                            6   \n",
       "3                                            6   \n",
       "4                                            6   \n",
       "\n",
       "  Link to updated Resume (Google/ One Drive link preferred)  \\\n",
       "0                                                NaN          \n",
       "1                                                NaN          \n",
       "2                                                NaN          \n",
       "3                                                NaN          \n",
       "4                                                NaN          \n",
       "\n",
       "   link to Linkedin profile  How Did You Hear About This Internship?  \\\n",
       "0                       NaN                                  Twitter   \n",
       "1                       NaN                      Ex/Current Employee   \n",
       "2                       NaN                                  Twitter   \n",
       "3                       NaN                                  Twitter   \n",
       "4                       NaN                                 Facebook   \n",
       "\n",
       "        Label  \n",
       "0  ineligible  \n",
       "1    eligible  \n",
       "2  ineligible  \n",
       "3  ineligible  \n",
       "4  ineligible  \n",
       "\n",
       "[5 rows x 32 columns]"
      ]
     },
     "execution_count": 2,
     "metadata": {},
     "output_type": "execute_result"
    }
   ],
   "source": [
    "stdata = pd.read_csv(\"studentdata.csv\")\n",
    "\n",
    "stdata.head()"
   ]
  },
  {
   "cell_type": "markdown",
   "metadata": {},
   "source": [
    "### Data Wrangling"
   ]
  },
  {
   "cell_type": "code",
   "execution_count": 3,
   "metadata": {},
   "outputs": [],
   "source": [
    "stdata.drop(['Certifications/Achievement/ Research papers','Link to updated Resume (Google/ One Drive link preferred)','link to Linkedin profile','How Did You Hear About This Internship?'],axis=1,inplace=True)"
   ]
  },
  {
   "cell_type": "code",
   "execution_count": 4,
   "metadata": {},
   "outputs": [],
   "source": [
    "stdata.drop(['First Name','Last Name','City','State','Zip Code','DOB [DD/MM/YYYY]','Gender','Email Address',\n",
    "             'Contact Number','Emergency Contact Number','College name','University Name',],axis=1,inplace=True)"
   ]
  },
  {
   "cell_type": "code",
   "execution_count": 5,
   "metadata": {},
   "outputs": [],
   "source": [
    "degree = pd.get_dummies(stdata['Degree'],drop_first = True)\n",
    "areaofstudy = pd.get_dummies(stdata['Major/Area of Study'])\n",
    "year = pd.get_dummies(stdata['Which-year are you studying in?'],drop_first = True)"
   ]
  },
  {
   "cell_type": "code",
   "execution_count": 6,
   "metadata": {},
   "outputs": [],
   "source": [
    "def rating_function(x):\n",
    "    if x == \"yes\":\n",
    "        return 1\n",
    "    else:\n",
    "        return 0\n",
    "stdata[\"java\"] = stdata[\"Have you worked core Java\"].apply(rating_function)\n"
   ]
  },
  {
   "cell_type": "code",
   "execution_count": 7,
   "metadata": {},
   "outputs": [],
   "source": [
    "lan = pd.get_dummies(stdata['Programming Language Known other than Java (one major)'])"
   ]
  },
  {
   "cell_type": "code",
   "execution_count": 8,
   "metadata": {},
   "outputs": [],
   "source": [
    "def rating_function(x):\n",
    "    if x == \"yes\":\n",
    "        return 1\n",
    "    else:\n",
    "        return 0\n",
    "stdata[\"sql\"] = stdata[\"Have you worked on MySQL or Oracle database\"].apply(rating_function)\n"
   ]
  },
  {
   "cell_type": "code",
   "execution_count": 9,
   "metadata": {},
   "outputs": [],
   "source": [
    "def rating_function(x):\n",
    "    if x == \"yes\":\n",
    "        return 1\n",
    "    else:\n",
    "        return 0\n",
    "stdata[\"oops\"] = stdata[\"Have you studied OOP Concepts\"].apply(rating_function)\n"
   ]
  },
  {
   "cell_type": "code",
   "execution_count": 10,
   "metadata": {},
   "outputs": [],
   "source": [
    "def rating_function(x):\n",
    "    if x == \"yes\":\n",
    "        return 1\n",
    "    else:\n",
    "        return 0\n",
    "stdata[\"py3\"] = stdata[\"Programming Language Known other than Java (one major)\"].apply(rating_function)\n"
   ]
  },
  {
   "cell_type": "code",
   "execution_count": 11,
   "metadata": {},
   "outputs": [],
   "source": [
    "interest = pd.get_dummies(stdata['Areas of interest'],drop_first=True)\n",
    "stdata = pd.concat([stdata,degree,areaofstudy,year,lan,interest],axis = 1)"
   ]
  },
  {
   "cell_type": "code",
   "execution_count": 12,
   "metadata": {},
   "outputs": [],
   "source": [
    "stdata.drop(['Degree','Major/Area of Study', 'Course Type', 'Which-year are you studying in?','Areas of interest','Current Employment Status', 'Have you worked core Java',\n",
    "       'Programming Language Known other than Java (one major)','Have you worked on MySQL or Oracle database',\n",
    "       'Have you studied OOP Concepts','Python'],axis = 1, inplace = True)"
   ]
  },
  {
   "cell_type": "code",
   "execution_count": 13,
   "metadata": {},
   "outputs": [],
   "source": [
    "select = pd.get_dummies(stdata['Label'],dtype = int)\n",
    "stdata = pd.concat([stdata,select],axis = 1)"
   ]
  },
  {
   "cell_type": "code",
   "execution_count": 14,
   "metadata": {},
   "outputs": [],
   "source": [
    "stdata = stdata.drop(['ineligible','Label'],axis = 1)"
   ]
  },
  {
   "cell_type": "code",
   "execution_count": 15,
   "metadata": {},
   "outputs": [
    {
     "data": {
      "text/html": [
       "<div>\n",
       "<style scoped>\n",
       "    .dataframe tbody tr th:only-of-type {\n",
       "        vertical-align: middle;\n",
       "    }\n",
       "\n",
       "    .dataframe tbody tr th {\n",
       "        vertical-align: top;\n",
       "    }\n",
       "\n",
       "    .dataframe thead th {\n",
       "        text-align: right;\n",
       "    }\n",
       "</style>\n",
       "<table border=\"1\" class=\"dataframe\">\n",
       "  <thead>\n",
       "    <tr style=\"text-align: right;\">\n",
       "      <th></th>\n",
       "      <th>Age</th>\n",
       "      <th>CGPA/ percentage</th>\n",
       "      <th>Expected Graduation-year</th>\n",
       "      <th>Rate your written communication skills [1-10]</th>\n",
       "      <th>Rate your verbal communication skills [1-10]</th>\n",
       "      <th>java</th>\n",
       "      <th>sql</th>\n",
       "      <th>oops</th>\n",
       "      <th>py3</th>\n",
       "      <th>B.Tech</th>\n",
       "      <th>...</th>\n",
       "      <th>Digital Marketing</th>\n",
       "      <th>Information Security</th>\n",
       "      <th>IoT</th>\n",
       "      <th>Machine Learning</th>\n",
       "      <th>Mobility</th>\n",
       "      <th>Python</th>\n",
       "      <th>QMS/Testing</th>\n",
       "      <th>RPA</th>\n",
       "      <th>Web Development</th>\n",
       "      <th>eligible</th>\n",
       "    </tr>\n",
       "  </thead>\n",
       "  <tbody>\n",
       "    <tr>\n",
       "      <th>0</th>\n",
       "      <td>19</td>\n",
       "      <td>7.26</td>\n",
       "      <td>2022</td>\n",
       "      <td>6</td>\n",
       "      <td>10</td>\n",
       "      <td>0</td>\n",
       "      <td>0</td>\n",
       "      <td>0</td>\n",
       "      <td>0</td>\n",
       "      <td>1</td>\n",
       "      <td>...</td>\n",
       "      <td>0</td>\n",
       "      <td>0</td>\n",
       "      <td>0</td>\n",
       "      <td>0</td>\n",
       "      <td>0</td>\n",
       "      <td>0</td>\n",
       "      <td>0</td>\n",
       "      <td>0</td>\n",
       "      <td>0</td>\n",
       "      <td>0</td>\n",
       "    </tr>\n",
       "    <tr>\n",
       "      <th>1</th>\n",
       "      <td>22</td>\n",
       "      <td>8.73</td>\n",
       "      <td>2020</td>\n",
       "      <td>10</td>\n",
       "      <td>7</td>\n",
       "      <td>0</td>\n",
       "      <td>0</td>\n",
       "      <td>0</td>\n",
       "      <td>0</td>\n",
       "      <td>1</td>\n",
       "      <td>...</td>\n",
       "      <td>0</td>\n",
       "      <td>0</td>\n",
       "      <td>0</td>\n",
       "      <td>0</td>\n",
       "      <td>0</td>\n",
       "      <td>0</td>\n",
       "      <td>0</td>\n",
       "      <td>0</td>\n",
       "      <td>0</td>\n",
       "      <td>1</td>\n",
       "    </tr>\n",
       "    <tr>\n",
       "      <th>2</th>\n",
       "      <td>24</td>\n",
       "      <td>8.61</td>\n",
       "      <td>2020</td>\n",
       "      <td>8</td>\n",
       "      <td>6</td>\n",
       "      <td>0</td>\n",
       "      <td>0</td>\n",
       "      <td>0</td>\n",
       "      <td>0</td>\n",
       "      <td>0</td>\n",
       "      <td>...</td>\n",
       "      <td>0</td>\n",
       "      <td>0</td>\n",
       "      <td>1</td>\n",
       "      <td>0</td>\n",
       "      <td>0</td>\n",
       "      <td>0</td>\n",
       "      <td>0</td>\n",
       "      <td>0</td>\n",
       "      <td>0</td>\n",
       "      <td>0</td>\n",
       "    </tr>\n",
       "    <tr>\n",
       "      <th>3</th>\n",
       "      <td>20</td>\n",
       "      <td>7.96</td>\n",
       "      <td>2022</td>\n",
       "      <td>9</td>\n",
       "      <td>6</td>\n",
       "      <td>0</td>\n",
       "      <td>0</td>\n",
       "      <td>0</td>\n",
       "      <td>0</td>\n",
       "      <td>1</td>\n",
       "      <td>...</td>\n",
       "      <td>1</td>\n",
       "      <td>0</td>\n",
       "      <td>0</td>\n",
       "      <td>0</td>\n",
       "      <td>0</td>\n",
       "      <td>0</td>\n",
       "      <td>0</td>\n",
       "      <td>0</td>\n",
       "      <td>0</td>\n",
       "      <td>0</td>\n",
       "    </tr>\n",
       "    <tr>\n",
       "      <th>4</th>\n",
       "      <td>23</td>\n",
       "      <td>7.07</td>\n",
       "      <td>2023</td>\n",
       "      <td>8</td>\n",
       "      <td>6</td>\n",
       "      <td>0</td>\n",
       "      <td>0</td>\n",
       "      <td>0</td>\n",
       "      <td>0</td>\n",
       "      <td>1</td>\n",
       "      <td>...</td>\n",
       "      <td>0</td>\n",
       "      <td>0</td>\n",
       "      <td>0</td>\n",
       "      <td>0</td>\n",
       "      <td>0</td>\n",
       "      <td>0</td>\n",
       "      <td>0</td>\n",
       "      <td>0</td>\n",
       "      <td>0</td>\n",
       "      <td>0</td>\n",
       "    </tr>\n",
       "  </tbody>\n",
       "</table>\n",
       "<p>5 rows × 39 columns</p>\n",
       "</div>"
      ],
      "text/plain": [
       "   Age  CGPA/ percentage  Expected Graduation-year  \\\n",
       "0   19              7.26                      2022   \n",
       "1   22              8.73                      2020   \n",
       "2   24              8.61                      2020   \n",
       "3   20              7.96                      2022   \n",
       "4   23              7.07                      2023   \n",
       "\n",
       "   Rate your written communication skills [1-10]  \\\n",
       "0                                              6   \n",
       "1                                             10   \n",
       "2                                              8   \n",
       "3                                              9   \n",
       "4                                              8   \n",
       "\n",
       "   Rate your verbal communication skills [1-10]  java  sql  oops  py3  B.Tech  \\\n",
       "0                                            10     0    0     0    0       1   \n",
       "1                                             7     0    0     0    0       1   \n",
       "2                                             6     0    0     0    0       0   \n",
       "3                                             6     0    0     0    0       1   \n",
       "4                                             6     0    0     0    0       1   \n",
       "\n",
       "   ...  Digital Marketing   Information Security  IoT   Machine Learning  \\\n",
       "0  ...                   0                     0     0                 0   \n",
       "1  ...                   0                     0     0                 0   \n",
       "2  ...                   0                     0     1                 0   \n",
       "3  ...                   1                     0     0                 0   \n",
       "4  ...                   0                     0     0                 0   \n",
       "\n",
       "   Mobility  Python   QMS/Testing   RPA   Web Development   eligible  \n",
       "0         0        0             0     0                 0         0  \n",
       "1         0        0             0     0                 0         1  \n",
       "2         0        0             0     0                 0         0  \n",
       "3         0        0             0     0                 0         0  \n",
       "4         0        0             0     0                 0         0  \n",
       "\n",
       "[5 rows x 39 columns]"
      ]
     },
     "execution_count": 15,
     "metadata": {},
     "output_type": "execute_result"
    }
   ],
   "source": [
    "stdata.head()"
   ]
  },
  {
   "cell_type": "markdown",
   "metadata": {},
   "source": [
    "### Dividing dataset in test and train"
   ]
  },
  {
   "cell_type": "code",
   "execution_count": 16,
   "metadata": {},
   "outputs": [],
   "source": [
    "X = stdata.drop('eligible',axis = 1) \n",
    "y = stdata['eligible']"
   ]
  },
  {
   "cell_type": "code",
   "execution_count": 17,
   "metadata": {},
   "outputs": [],
   "source": [
    "from sklearn.model_selection import train_test_split"
   ]
  },
  {
   "cell_type": "code",
   "execution_count": 18,
   "metadata": {},
   "outputs": [],
   "source": [
    "X_train, X_test, y_train, y_test = train_test_split(X, y, test_size=0.3, random_state=1)"
   ]
  },
  {
   "cell_type": "markdown",
   "metadata": {},
   "source": [
    "### Appling svc algorithm"
   ]
  },
  {
   "cell_type": "code",
   "execution_count": 19,
   "metadata": {},
   "outputs": [],
   "source": [
    "from sklearn.pipeline import make_pipeline\n",
    "from sklearn.preprocessing import StandardScaler"
   ]
  },
  {
   "cell_type": "code",
   "execution_count": 20,
   "metadata": {},
   "outputs": [],
   "source": [
    "from sklearn.svm import SVC"
   ]
  },
  {
   "cell_type": "code",
   "execution_count": 21,
   "metadata": {},
   "outputs": [],
   "source": [
    "clf = make_pipeline(StandardScaler(), SVC(gamma='auto'))"
   ]
  },
  {
   "cell_type": "code",
   "execution_count": 22,
   "metadata": {},
   "outputs": [
    {
     "data": {
      "text/plain": [
       "Pipeline(memory=None,\n",
       "         steps=[('standardscaler',\n",
       "                 StandardScaler(copy=True, with_mean=True, with_std=True)),\n",
       "                ('svc',\n",
       "                 SVC(C=1.0, cache_size=200, class_weight=None, coef0=0.0,\n",
       "                     decision_function_shape='ovr', degree=3, gamma='auto',\n",
       "                     kernel='rbf', max_iter=-1, probability=False,\n",
       "                     random_state=None, shrinking=True, tol=0.001,\n",
       "                     verbose=False))],\n",
       "         verbose=False)"
      ]
     },
     "execution_count": 22,
     "metadata": {},
     "output_type": "execute_result"
    }
   ],
   "source": [
    "clf.fit(X_train, y_train)\n"
   ]
  },
  {
   "cell_type": "code",
   "execution_count": 23,
   "metadata": {},
   "outputs": [],
   "source": [
    "prediction = clf.predict(X_test)"
   ]
  },
  {
   "cell_type": "markdown",
   "metadata": {},
   "source": [
    "### Classification report"
   ]
  },
  {
   "cell_type": "code",
   "execution_count": 24,
   "metadata": {},
   "outputs": [],
   "source": [
    "from sklearn.metrics import classification_report \n",
    "from sklearn.metrics import accuracy_score, confusion_matrix,classification_report\n",
    "from sklearn.metrics import f1_score"
   ]
  },
  {
   "cell_type": "code",
   "execution_count": 25,
   "metadata": {},
   "outputs": [
    {
     "data": {
      "text/plain": [
       "'              precision    recall  f1-score   support\\n\\n           0       0.93      0.95      0.94      1796\\n           1       0.92      0.89      0.90      1204\\n\\n    accuracy                           0.92      3000\\n   macro avg       0.92      0.92      0.92      3000\\nweighted avg       0.92      0.92      0.92      3000\\n'"
      ]
     },
     "execution_count": 25,
     "metadata": {},
     "output_type": "execute_result"
    }
   ],
   "source": [
    "classification_report(y_test,prediction)"
   ]
  },
  {
   "cell_type": "code",
   "execution_count": 26,
   "metadata": {},
   "outputs": [
    {
     "data": {
      "text/plain": [
       "array([0.93777533, 0.90456081])"
      ]
     },
     "execution_count": 26,
     "metadata": {},
     "output_type": "execute_result"
    }
   ],
   "source": [
    "f1_score(y_test, prediction,average = None)"
   ]
  },
  {
   "cell_type": "code",
   "execution_count": 27,
   "metadata": {},
   "outputs": [
    {
     "name": "stdout",
     "output_type": "stream",
     "text": [
      "[[1204    0]\n",
      " [   0 1796]]\n"
     ]
    }
   ],
   "source": [
    "k = confusion_matrix(y_test,y_test, labels=[1,0])\n",
    "print(k)"
   ]
  },
  {
   "cell_type": "code",
   "execution_count": 28,
   "metadata": {},
   "outputs": [
    {
     "data": {
      "text/plain": [
       "0.9246666666666666"
      ]
     },
     "execution_count": 28,
     "metadata": {},
     "output_type": "execute_result"
    }
   ],
   "source": [
    "accuracy_score(y_test,prediction)"
   ]
  },
  {
   "cell_type": "code",
   "execution_count": 29,
   "metadata": {},
   "outputs": [
    {
     "data": {
      "text/plain": [
       "Index(['Age', 'CGPA/ percentage', 'Expected Graduation-year',\n",
       "       'Rate your written communication skills [1-10]',\n",
       "       'Rate your verbal communication skills [1-10]', 'java', 'sql', 'oops',\n",
       "       'py3', 'B.Tech', 'Computer Engineering', 'Electrical Engineering',\n",
       "       'Electronics and Telecommunication', 'Fourth-year', 'Second-year',\n",
       "       'Third-year', '.Net', 'C', 'C#', 'C++', 'HTML/CSS', 'JavaScript', 'PHP',\n",
       "       'Big Data ', 'Blockchain ', 'Cloud Computing ', 'Cyber Security ',\n",
       "       'Data Science ', 'DevOps ', 'Digital Marketing ',\n",
       "       'Information Security', 'IoT ', 'Machine Learning', 'Mobility',\n",
       "       'Python ', 'QMS/Testing ', 'RPA ', 'Web Development ', 'eligible'],\n",
       "      dtype='object')"
      ]
     },
     "execution_count": 29,
     "metadata": {},
     "output_type": "execute_result"
    }
   ],
   "source": [
    "stdata.columns"
   ]
  },
  {
   "cell_type": "code",
   "execution_count": null,
   "metadata": {},
   "outputs": [],
   "source": []
  },
  {
   "cell_type": "code",
   "execution_count": null,
   "metadata": {},
   "outputs": [],
   "source": []
  }
 ],
 "metadata": {
  "kernelspec": {
   "display_name": "Python 3",
   "language": "python",
   "name": "python3"
  },
  "language_info": {
   "codemirror_mode": {
    "name": "ipython",
    "version": 3
   },
   "file_extension": ".py",
   "mimetype": "text/x-python",
   "name": "python",
   "nbconvert_exporter": "python",
   "pygments_lexer": "ipython3",
   "version": "3.7.4"
  }
 },
 "nbformat": 4,
 "nbformat_minor": 2
}
